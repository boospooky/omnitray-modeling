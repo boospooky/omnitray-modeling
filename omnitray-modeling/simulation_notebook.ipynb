{
 "cells": [
  {
   "cell_type": "markdown",
   "metadata": {},
   "source": [
    "# PDE Modelling \n",
    "\n",
    "## Objectives \n",
    "* Make a model that describes cell growth and signalling at the scale of colonies \n",
    "\n",
    "## Model considerations \n",
    "* Species\n",
    "    1. Cell density \n",
    "    1. Nutrient density \n",
    "    1. Environmental AHL (considered equal to intracellular concentration)\n",
    "    1. Synthase / GFP\n",
    "    1. Repressor or degradase\n",
    "* Reactions \n",
    "    1. cell growth and diffusion \n",
    "        * Cells diffuse very slowly\n",
    "        * nutrient-dependent growth (from Liu et al 2011, Science) \n",
    "        $$  $$ \n",
    "    1. Transcriptional activation\n",
    "        * Basal protein expression -> scaled by repression? probably\n",
    "        * Activation by internal AHL \n",
    "        * Use Hill function $$H(A(t), n, k) = \\frac{A(t)^2}{k^n + A(t)^n}$$\n",
    "        * Activation term, with basal expression and expression rate x\n",
    "        $$X(A(t), n, k, b, x) = x\\frac{A(t)^2}{k^n + A(t)^n} + b$$\n",
    "    1. Transcriptional repression\n",
    "        * Assume activation is AND-like, meaning that repression trumps activation\n",
    "        * Use 'repression' Hill function $$H_n(R(t), n, k) = \\frac{k^n}{k^n + R(t)^n}$$\n",
    "        * Rather than considering protein concentrations within cells, calculate protein concentrations as produced by the bulk of cells. Expression is therefore proportional to cell density.\n",
    "    1. Dilution and degradation \n",
    "        * Assume that GFP/Synthase proteins are degradation tagged\n",
    "        * Degradase is not tagged, so does not have a degradation term\n",
    "    1. Diffusion \n",
    "        * Here, you're going to use convoultion of the diffusion kernel\n",
    "        * Diffusion in/out of cell is considered faster than spatial diffusion at these scales\n",
    "    1. "
   ]
  },
  {
   "cell_type": "code",
   "execution_count": 298,
   "metadata": {
    "collapsed": true
   },
   "outputs": [],
   "source": [
    "# imports\n",
    "from __future__ import division\n",
    "from __future__ import print_function\n",
    "import numpy as np\n",
    "import scipy.integrate as itg \n",
    "import scipy.signal as sig\n",
    "import scipy.ndimage as ndi\n",
    "import matplotlib.pyplot as plt \n",
    "import matplotlib.animation as anm\n",
    "\n",
    "#%matplotlib inline"
   ]
  },
  {
   "cell_type": "markdown",
   "metadata": {},
   "source": [
    "## 2D Discrete Laplacian\n",
    "\n",
    "In continuous form : \n",
    "$$ U_t = \\triangle U - \\lambda U $$\n",
    "\n",
    "In discrete form, for point $i$ : \n",
    "$$ \\Delta U_i = \\sum_{1 = w(i,j)}\\omega(i,j)(U_i - U_j) - \\lambda U_i $$\n",
    "\n",
    "Use discrete laplacian approximation w/o diagonals for grid spacing, so that we can have zero-flux  boundary conditions. \n",
    "\n",
    "$$ L = \n",
    " \\begin{pmatrix}\n",
    "  0 & 1 & 0 \\\\\n",
    "  1 & -4 & 1 \\\\\n",
    "  0 & 1 & 0 \n",
    " \\end{pmatrix} $$\n",
    "\n",
    "I use a convolution function to calculate the diffusion terms. "
   ]
  },
  {
   "cell_type": "code",
   "execution_count": 313,
   "metadata": {
    "collapsed": true
   },
   "outputs": [],
   "source": [
    "# Cell model w/ signalling \n",
    "\n",
    "# Dimensions\n",
    "tmax = 20*60\n",
    "time = np.int(tmax/10)\n",
    "n =20\n",
    "n_h = 11\n",
    "n_w = 21\n",
    "\n",
    "od0 = 0.5\n",
    "\n",
    "def disk(A, center, radius):\n",
    "    h, w = A.shape\n",
    "    ind_mat = np.zeros((h, w, 2))\n",
    "    cx, cy = center\n",
    "    for i in range(h):\n",
    "        ind_mat[i,:,0] = np.power(np.arange(w) - cx, 2)\n",
    "    \n",
    "    for i in range(w):\n",
    "        ind_mat[:,i,1] = np.power(np.arange(h) - cy, 2)\n",
    "    \n",
    "    outmat = (ind_mat[:,:,0] + ind_mat[:,:,1]) < radius**2\n",
    "    return outmat\n",
    "\n",
    "species = 4 # Cells, nutrients, AHL, synthase, degradase or laci\n",
    "quarter=\"2_aleaky\"\n",
    "sender_cells = np.zeros((n_h, n_w))\n",
    "sender_cells[1, 1:-1:1] = od0\n",
    "\n",
    "rec_cells = np.zeros((n_h, n_w))\n",
    "rec_cells[3, 5] = od0\n",
    "\n",
    "rdc_cells = np.zeros((n_h, n_w))\n",
    "rdc_cells[3, 7] = od0\n",
    "\n",
    "# Make empty array\n",
    "A = np.zeros((species, n_h, n_w))\n",
    "\n",
    "# Set initial conditions\n",
    "# Cells. Spotted along a line through the middle of the arena\n",
    "A[0,:,:] += sender_cells + rec_cells + rdc_cells\n",
    "\n",
    "# Blur to make smooth colonies. This is basically cosmetic\n",
    "#A[0,:,:] = ndi.filters.gaussian_filter(A[0,:,:], 1)\n",
    "# Nutrients. All at 100\n",
    "A[1,:,:] = 100*np.ones((n_h, n_w))\n",
    "# External AHL. Start with a vertical line at the right of high concentration\n",
    "A[2,:,:] = np.zeros((n_h, n_w))\n",
    "#A[2,:,-2] = 2.5e6\n",
    "# GFP / Synthase. All 0 initially\n",
    "A[3,:,:] = np.zeros((n_h, n_w))\n",
    "# degradase or repressor. All 0 initially\n",
    "#A[4,:,:] = np.zeros((n_h, n_w))\n",
    "\n",
    "# Laplace kernel\n",
    "diag = 0.5\n",
    "neig = 1.0\n",
    "cent = -6.0\n",
    "W = np.array([[diag, neig, diag],[neig, cent, neig],[diag, neig, diag]])\n",
    "\n",
    "# units : L = mm, T = minutes, concentration in nM = moles / mm^3\n",
    "# Da = 6 - 1.2 E-2\n",
    "# Params :    dx,    Dc,    rc, Kn,   Dn,   kn,  Da,  xa,  xs,  ha,  ka, \n",
    "p0 = np.array([4.5,   0, 6e-3,  75,  1e-2,  2, 1e-2, 1e2, 2e-1, 4, 1e2,    \n",
    "          # kleak,  xd,   pa,    da,   w, leak, dG, periodic, zb\n",
    "               1e2, 2e-2, 0.015, 2e1, 10, 1e-4, 1e-4, False,  False])\n",
    "\n",
    "# Change parameter values above. The function definitions inherit the parameter values defined here.\n",
    "dx, Dc,  rc,    Kn,  Dn,   kn, Da, xa, xs, ha, ka, dleak, xd, pa, da, w, leak, dG, periodic, zb = p0\n",
    "              \n",
    "plt.figure()\n",
    "\n",
    "\n",
    "# In order to use the ODE solver, the array must be flattened to a vector. \n",
    "# These functions change the vectors used by the ODE solver into arrays that are\n",
    "# used by the convolution function\n",
    "def y_to_mats(y, n=n, species=species):\n",
    "    if species == 1:\n",
    "        return y.reshape((n_h, n_w))\n",
    "    if species > 1:\n",
    "        return list(y.reshape((species, n_h, n_w)))\n",
    "    return 1\n",
    "\n",
    "def mats_to_y(ymats, n=n, species=species):\n",
    "    y = np.concatenate(ymats).reshape(n_h*n_w*species)\n",
    "    return y\n",
    "\n",
    "# Add two rows and columns to a matrix in order to apply boundary conditions. \n",
    "# The boundary conditions are no-flux walls, and this is done by setting the boundary\n",
    "# cells equal to their neighbors. \n",
    "def pad(mat):\n",
    "    zmat = np.zeros((n_h+2, n_w+2))\n",
    "    if periodic:\n",
    "        b0, b1 = -1, 0\n",
    "    else:\n",
    "        b0, b1 = 0, -1\n",
    "        \n",
    "    zmat[1:n_h+1,1:n_w+1] = mat\n",
    "    if zb:\n",
    "        return zmat\n",
    "    \n",
    "    for i in [0, -1]:\n",
    "        for j in [0, -1]:\n",
    "            zmat[i,j] = mat[i,j]\n",
    "    \n",
    "    zmat[1:n_h+1,0] = mat[:,b0]\n",
    "    zmat[1:n_h+1,-1] = mat[:,b1]\n",
    "    zmat[0,1:n_w+1] = mat[b0,:]\n",
    "    zmat[-1,1:n_w+1] = mat[b1,:]\n",
    "    return zmat\n",
    "\n",
    "def calc_diffusion(mat, W):\n",
    "    return unpad(sig.convolve(pad(mat), W, 'same'))\n",
    "\n",
    "# Remove boundary \n",
    "def unpad(padmat, n=n, species=species):\n",
    "    return padmat[1:(n_h+1), 1:(n_w+1)]\n",
    "\n",
    "def hill(a, n, k):\n",
    "    return (a**n)/(k**n + a**n)\n",
    "\n",
    "def hillN(a, n, k):\n",
    "    return (k**n)/(k**n + a**n)\n",
    "\n",
    "# ODE definition\n",
    "def f(y, t):\n",
    "    # Calculate diffusion terms\n",
    "    ymats = y_to_mats(y, n, species)\n",
    "    \n",
    "    diff_terms = [calc_diffusion(m, W) for m in ymats[1:3]]\n",
    "    \n",
    "    # Growth term\n",
    "    nut_avail = (np.power(ymats[1],2))/(np.power(ymats[1],2) + np.power(Kn,2))\n",
    "    \n",
    "    # Calculate derivative values\n",
    "    #p_t = calc_p_t(ymats, diff_terms, nut_avail)\n",
    "    #n_t = calc_n_t(ymats, diff_terms, nut_avail)\n",
    "    #a_t = calc_a_t(ymats, diff_terms, nut_avail)\n",
    "    #g_t = calc_g_t(ymats, diff_terms, nut_avail)\n",
    "    \n",
    "    p_t = rc * nut_avail * ymats[0]\n",
    "    n_t = (dx*10)*Dn*diff_terms[0] - kn * nut_avail * ymats[0]\n",
    "    a_t = (dx*10)*Da*diff_terms[1] + xa * (ymats[3]+leak*10)*sender_cells - da*ymats[2]*rdc_cells*ymats[0] - pa * ymats[2]\n",
    "    g_t = xs * ymats[0] * (hill(ymats[2], ha, ka) + leak) * nut_avail * (rdc_cells + rec_cells) + ymats[0]*xs*sender_cells* nut_avail # - dG*ymats[3]# * ((np.arctan(w*(ymats[0]-0.05))+np.pi)/np.pi)\n",
    "    #d_t = xd * ymats[0] * dleak * nut_avail * rdc_cells - dG*ymats[4]# * ((np.arctan(w*(ymats[0]-0.05))+np.pi)/np.pi)\n",
    "    \n",
    "    dy = [p_t, n_t, a_t, g_t]#, d_t]\n",
    "    return mats_to_y(dy, n, species)\n",
    "\n",
    "t = np.linspace(0,tmax,time)\n",
    "\n",
    "out = itg.odeint(f, mats_to_y(A, n, species), t)"
   ]
  },
  {
   "cell_type": "code",
   "execution_count": 314,
   "metadata": {},
   "outputs": [
    {
     "data": {
      "text/plain": [
       "(120, 924)"
      ]
     },
     "execution_count": 314,
     "metadata": {},
     "output_type": "execute_result"
    }
   ],
   "source": [
    "out.shape"
   ]
  },
  {
   "cell_type": "code",
   "execution_count": 315,
   "metadata": {},
   "outputs": [
    {
     "data": {
      "image/png": "[encoded data removed]",
      "text/plain": [
       "<matplotlib.figure.Figure at 0x7effdb61c2e8>"
      ]
     },
     "metadata": {},
     "output_type": "display_data"
    }
   ],
   "source": [
    "# Take a look at one frame\n",
    "o_reshaped = np.reshape(out, (time,species,n_h,n_w))\n",
    "\n",
    "plt.close('all')\n",
    "img = plt.imshow(o_reshaped[-1,0,:,:], interpolation='none')\n",
    "plt.colorbar(mappable=img)\n",
    "plt.show()"
   ]
  },
  {
   "cell_type": "code",
   "execution_count": 316,
   "metadata": {
    "collapsed": true
   },
   "outputs": [],
   "source": [
    "# Print out the animated GIF\n",
    "\n",
    "fig, axs = plt.subplots(nrows=1, ncols=species, figsize=(20,5))\n",
    "\n",
    "vmaxs, vmins = [[fun(o_reshaped[2:,i,:,:]) for i in range(species)] for fun in [np.max, np.min]]\n",
    "#vmaxs = [4, 100, 2.5e6, 10, 10]\n",
    "handles = []\n",
    "titles = ['Cell density', 'Nutrient', 'AHL', 'GFP']#, 'AiiA']\n",
    "for j in range(species):\n",
    "    img = np.empty((n_h,n_w))\n",
    "    han = axs[j].imshow(img, vmin=vmins[j], vmax=vmaxs[j], interpolation='none', cmap='plasma')\n",
    "    handles.append(han)\n",
    "    #fig.colorbar(han, ax=axs[j])\n",
    "    axs[j].set_title(titles[j])\n",
    "\n",
    "Writer = anm.writers['imagemagick']\n",
    "writer = Writer(fps=20, metadata=dict(artist='Me'), bitrate=1800)\n",
    "\n",
    "cbar_flag = True\n",
    "# Change filename here\n",
    "with writer.saving(fig, \"joy_exp_q{}_long.gif\".format(quarter), 150):\n",
    "    for i in range(0,time,50):\n",
    "        for j in range(species):\n",
    "            handles[j].set_array(o_reshaped[i,j,:,:])\n",
    "        writer.grab_frame()"
   ]
  },
  {
   "cell_type": "code",
   "execution_count": 317,
   "metadata": {},
   "outputs": [
    {
     "data": {
      "image/png": "[encoded data removed]",
      "text/plain": [
       "<matplotlib.figure.Figure at 0x7effd40ae4e0>"
      ]
     },
     "metadata": {},
     "output_type": "display_data"
    }
   ],
   "source": [
    "plt.close('all')\n",
    "plt.figure(figsize=(7,5))\n",
    "gfp_vec = np.array([o_reshaped[ti,3,:,:]*(rec_cells) for ti in np.arange(time)])\n",
    "plt.plot(gfp_vec.sum(axis=-1).sum(axis=-1))\n",
    "gfp_vec = np.array([o_reshaped[ti,3,:,:]*(rdc_cells) for ti in np.arange(time)])\n",
    "plt.plot(gfp_vec.sum(axis=-1).sum(axis=-1))\n",
    "plt.ylabel('GFP (AFU)')\n",
    "plt.xlabel('Time (min)')\n",
    "plt.title('Simulated agar experiment')\n",
    "plt.legend([\"Receiver\", \"Receiver with degradase\"])\n",
    "plt.savefig('gifs/joy_exp_gfp_profile_q{}.png'.format(quarter))\n",
    "plt.show()"
   ]
  },
  {
   "cell_type": "code",
   "execution_count": null,
   "metadata": {
    "collapsed": true
   },
   "outputs": [],
   "source": []
  }
 ],
 "metadata": {
  "kernelspec": {
   "display_name": "Python 3",
   "language": "python",
   "name": "python3"
  },
  "language_info": {
   "codemirror_mode": {
    "name": "ipython",
    "version": 3
   },
   "file_extension": ".py",
   "mimetype": "text/x-python",
   "name": "python",
   "nbconvert_exporter": "python",
   "pygments_lexer": "ipython3",
   "version": "3.6.1"
  }
 },
 "nbformat": 4,
 "nbformat_minor": 2
}
