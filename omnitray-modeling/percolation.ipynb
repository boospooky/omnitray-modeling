{
 "cells": [
  {
   "cell_type": "code",
   "execution_count": 32,
   "metadata": {},
   "outputs": [],
   "source": [
    "import numpy as np\n",
    "import matplotlib.pyplot as plt\n",
    "import skimage as ski\n"
   ]
  },
  {
   "cell_type": "code",
   "execution_count": 15,
   "metadata": {},
   "outputs": [],
   "source": [
    "np.choose?"
   ]
  },
  {
   "cell_type": "code",
   "execution_count": 66,
   "metadata": {},
   "outputs": [
    {
     "name": "stderr",
     "output_type": "stream",
     "text": [
      "/opt/anaconda/miniconda3/lib/python3.6/site-packages/matplotlib/axes/_axes.py:6571: UserWarning: The 'normed' kwarg is deprecated, and has been replaced by the 'density' kwarg.\n",
      "  warnings.warn(\"The 'normed' kwarg is deprecated, and has been \"\n"
     ]
    },
    {
     "data": {
      "text/plain": [
       "<matplotlib.legend.Legend at 0x7f69107f5710>"
      ]
     },
     "execution_count": 66,
     "metadata": {},
     "output_type": "execute_result"
    },
    {
     "data": {
      "image/png": "[encoded data removed]",
      "text/plain": [
       "<Figure size 432x288 with 1 Axes>"
      ]
     },
     "metadata": {},
     "output_type": "display_data"
    },
    {
     "data": {
      "image/png": "[encoded data removed]",
      "text/plain": [
       "<Figure size 432x288 with 1 Axes>"
      ]
     },
     "metadata": {},
     "output_type": "display_data"
    }
   ],
   "source": [
    "sub_arr_list = []\n",
    "for xx in np.arange(16):\n",
    "    a = np.floor(xx / 8)\n",
    "    b = np.floor((xx - a*8) / 4)\n",
    "    c = np.floor((xx - a*8 - b*4) / 2)\n",
    "    d = xx - a*8 - b*4 - c*2\n",
    "    sub_arr_list.append(np.array([[a, b], [c, d]]))\n",
    "\n",
    "def gen_perc_arr(n=100, phi=0.5):\n",
    "    arr = np.random.random((n,n)) > phi\n",
    "    return arr\n",
    "\n",
    "def gen_perc_diff_arr(n=200, phi=0.5, phi_d=1.1, emph=[3,5,10,12,7,11,13,14,15]):\n",
    "    # Create arrays\n",
    "    arr = np.random.random((n,n))\n",
    "    arr_out = np.zeros((n*2,n*2))\n",
    "    # Create CDF for sub array generation\n",
    "    tot_p = 16 + (phi_d - 1)*len(emph)\n",
    "    cutoffs = np.zeros(16)\n",
    "    runsum = 0 \n",
    "    for i in np.arange(16):\n",
    "        if i in emph:\n",
    "            runsum += phi_d / tot_p\n",
    "        else:\n",
    "            runsum += 1 / tot_p\n",
    "        cutoffs[i] = runsum\n",
    "#     print(cutoffs)\n",
    "    # Populate out array with sub arrays\n",
    "    ind_vec = np.arange(16)\n",
    "    for i in np.arange(n):\n",
    "        for j in np.arange(n):\n",
    "            ind_choices = [xx for xx in ind_vec if arr[i,j] < cutoffs[xx]]\n",
    "#             print(ind_choices, arr[i,j])\n",
    "            sub_arr_ind = ind_choices[0]\n",
    "            arr_out[2*i:(2*i+2),2*j:(2*j+2)] += sub_arr_list[sub_arr_ind]\n",
    "    return arr_out\n",
    "\n",
    "for phi_d in [0.5,1,1.5,2]:\n",
    "    arr = gen_perc_diff_arr(phi_d=phi_d) > 0\n",
    "    labeled = ski.measure.label(arr, connectivity=1)\n",
    "    nlab = np.max(labeled)\n",
    "    sizes = np.log10(np.array([np.sum(labeled == xx) for xx in np.arange(1,nlab+1)]))\n",
    "    _ = plt.hist(sizes, log=True, normed=True, histtype='step',bins=20, label=\"{}\".format(phi_d))\n",
    "plt.legend()\n",
    "\n",
    "plt.figure()\n",
    "\n",
    "for phi_d in [0.5,1,1.5,2]:\n",
    "    arr = gen_perc_diff_arr(phi_d=phi_d, emph=[3,5,10,12]) > 0\n",
    "    labeled = ski.measure.label(arr, connectivity=1)\n",
    "    nlab = np.max(labeled)\n",
    "    sizes = np.log10(np.array([np.sum(labeled == xx) for xx in np.arange(1,nlab+1)]))\n",
    "    _ = plt.hist(sizes, log=True, normed=True, histtype='step',bins=20, label=\"{}\".format(phi_d))\n",
    "plt.legend()\n",
    "# plt.plot(np.linspace(0,3,5),np.power(10,np.linspace(1,-5,5)))\n",
    "#     plt.imshow(labeled)\n",
    "#     plt.title(np.max(labeled))\n"
   ]
  },
  {
   "cell_type": "code",
   "execution_count": 53,
   "metadata": {
    "scrolled": false
   },
   "outputs": [
    {
     "data": {
      "text/plain": [
       "array([1.00000000e+01, 1.77827941e-01, 3.16227766e-03, 5.62341325e-05,\n",
       "       1.00000000e-06])"
      ]
     },
     "execution_count": 53,
     "metadata": {},
     "output_type": "execute_result"
    }
   ],
   "source": [
    "np.power(10,np.linspace(1,-6,5))\n",
    "# for ii, sub_arr in enumerate(sub_arr_list):\n",
    "#     plt.figure()\n",
    "#     plt.imshow(sub_arr, vmin=0, vmax=1)\n",
    "#     plt.title(ii)"
   ]
  },
  {
   "cell_type": "code",
   "execution_count": 10,
   "metadata": {},
   "outputs": [
    {
     "data": {
      "text/plain": [
       "array([0., 0., 0., 0., 0., 0., 0., 0., 0., 0., 0., 0., 0., 0., 0., 0.])"
      ]
     },
     "execution_count": 10,
     "metadata": {},
     "output_type": "execute_result"
    }
   ],
   "source": [
    "np.zeros(16)"
   ]
  },
  {
   "cell_type": "code",
   "execution_count": null,
   "metadata": {},
   "outputs": [],
   "source": []
  }
 ],
 "metadata": {
  "kernelspec": {
   "display_name": "Python 3",
   "language": "python",
   "name": "python3"
  },
  "language_info": {
   "codemirror_mode": {
    "name": "ipython",
    "version": 3
   },
   "file_extension": ".py",
   "mimetype": "text/x-python",
   "name": "python",
   "nbconvert_exporter": "python",
   "pygments_lexer": "ipython3",
   "version": "3.6.6"
  }
 },
 "nbformat": 4,
 "nbformat_minor": 2
}
